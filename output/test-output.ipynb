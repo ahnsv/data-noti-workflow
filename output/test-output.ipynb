{
 "cells": [
  {
   "cell_type": "code",
   "execution_count": 1,
   "metadata": {
    "execution": {
     "iopub.execute_input": "2020-04-05T02:24:20.213058Z",
     "iopub.status.busy": "2020-04-05T02:24:20.212390Z",
     "iopub.status.idle": "2020-04-05T02:24:20.214828Z",
     "shell.execute_reply": "2020-04-05T02:24:20.215316Z"
    },
    "papermill": {
     "duration": 0.01304,
     "end_time": "2020-04-05T02:24:20.215493",
     "exception": false,
     "start_time": "2020-04-05T02:24:20.202453",
     "status": "completed"
    },
    "tags": []
   },
   "outputs": [
    {
     "name": "stdout",
     "output_type": "stream",
     "text": [
      "This is Papermill Test\n"
     ]
    }
   ],
   "source": [
    "import argparse\n",
    "print('This is Papermill Test')"
   ]
  },
  {
   "cell_type": "code",
   "execution_count": 2,
   "metadata": {
    "execution": {
     "iopub.execute_input": "2020-04-05T02:24:20.226810Z",
     "iopub.status.busy": "2020-04-05T02:24:20.226023Z",
     "iopub.status.idle": "2020-04-05T02:24:20.227803Z",
     "shell.execute_reply": "2020-04-05T02:24:20.228282Z"
    },
    "papermill": {
     "duration": 0.009172,
     "end_time": "2020-04-05T02:24:20.228429",
     "exception": false,
     "start_time": "2020-04-05T02:24:20.219257",
     "status": "completed"
    },
    "tags": [
     "parameters"
    ]
   },
   "outputs": [],
   "source": [
    "PARAM_1 = \"\"\n",
    "PARAM_2 = \"\"\n",
    "PARAM_3 = \"\""
   ]
  },
  {
   "cell_type": "code",
   "execution_count": 3,
   "metadata": {
    "execution": {
     "iopub.execute_input": "2020-04-05T02:24:20.243745Z",
     "iopub.status.busy": "2020-04-05T02:24:20.243083Z",
     "iopub.status.idle": "2020-04-05T02:24:20.244993Z",
     "shell.execute_reply": "2020-04-05T02:24:20.245396Z"
    },
    "papermill": {
     "duration": 0.011546,
     "end_time": "2020-04-05T02:24:20.245549",
     "exception": false,
     "start_time": "2020-04-05T02:24:20.234003",
     "status": "completed"
    },
    "tags": [
     "injected-parameters"
    ]
   },
   "outputs": [],
   "source": [
    "# Parameters\n",
    "PARAM_1 = \"hello\"\n",
    "PARAM_2 = \"world\"\n",
    "PARAM_3 = \"hihi\"\n"
   ]
  },
  {
   "cell_type": "code",
   "execution_count": 4,
   "metadata": {
    "execution": {
     "iopub.execute_input": "2020-04-05T02:24:20.257605Z",
     "iopub.status.busy": "2020-04-05T02:24:20.256853Z",
     "iopub.status.idle": "2020-04-05T02:24:20.259416Z",
     "shell.execute_reply": "2020-04-05T02:24:20.259934Z"
    },
    "papermill": {
     "duration": 0.010531,
     "end_time": "2020-04-05T02:24:20.260094",
     "exception": false,
     "start_time": "2020-04-05T02:24:20.249563",
     "status": "completed"
    },
    "tags": []
   },
   "outputs": [
    {
     "name": "stdout",
     "output_type": "stream",
     "text": [
      "hello world hihi\n"
     ]
    }
   ],
   "source": [
    "print(PARAM_1, PARAM_2, PARAM_3)"
   ]
  },
  {
   "cell_type": "code",
   "execution_count": null,
   "metadata": {
    "papermill": {
     "duration": 0.007303,
     "end_time": "2020-04-05T02:24:20.299882",
     "exception": false,
     "start_time": "2020-04-05T02:24:20.292579",
     "status": "completed"
    },
    "tags": []
   },
   "outputs": [],
   "source": []
  }
 ],
 "metadata": {
  "celltoolbar": "Tags",
  "file_extension": ".py",
  "kernelspec": {
   "display_name": "Python 3.7.5 64-bit ('venv': venv)",
   "language": "python",
   "name": "python37564bitvenvvenv2aa10c39d7da44989c01f9fa9fe13ff7"
  },
  "language_info": {
   "codemirror_mode": {
    "name": "ipython",
    "version": 3
   },
   "file_extension": ".py",
   "mimetype": "text/x-python",
   "name": "python",
   "nbconvert_exporter": "python",
   "pygments_lexer": "ipython3",
   "version": "3.7.5"
  },
  "mimetype": "text/x-python",
  "name": "python",
  "npconvert_exporter": "python",
  "papermill": {
   "duration": 1.003667,
   "end_time": "2020-04-05T02:24:20.415350",
   "environment_variables": {},
   "exception": null,
   "input_path": "src/test.ipynb",
   "output_path": "output/test-output.ipynb",
   "parameters": {
    "PARAM_1": "hello",
    "PARAM_2": "world",
    "PARAM_3": "hihi"
   },
   "start_time": "2020-04-05T02:24:19.411683",
   "version": "2.1.0"
  },
  "pygments_lexer": "ipython3",
  "version": 3
 },
 "nbformat": 4,
 "nbformat_minor": 2
}