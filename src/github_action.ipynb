{
 "cells": [
  {
   "cell_type": "markdown",
   "metadata": {},
   "source": [
    "## Github Action + Secret과 연동 테스트입니다\n",
    "Github Action -> Github Secret -> ENV -> Fabric -> Papermill -> Notebook -> Slack"
   ]
  },
  {
   "cell_type": "code",
   "execution_count": 1,
   "metadata": {
    "tags": [
     "parameters"
    ]
   },
   "outputs": [],
   "source": [
    "SLACK_WEBHOOK_URL = \"\"\n",
    "SECRET_TEST = \"\""
   ]
  },
  {
   "cell_type": "code",
   "execution_count": 30,
   "metadata": {},
   "outputs": [],
   "source": [
    "from requests import post\n",
    "from datetime import datetime\n",
    "from json import dumps\n",
    "\n",
    "content = {'text': f\"now is {datetime.now()} and secret is {SECRET_TEST}\"}\n",
    "headers = {'Content-Type': 'application/json; charset=utf-8'}\n",
    "\n",
    "res = post(SLACK_WEBHOOK_URL, data=dumps(content), headers=headers)"
   ]
  }
 ],
 "metadata": {
  "celltoolbar": "Tags",
  "file_extension": ".py",
  "kernelspec": {
   "display_name": "Python 3",
   "language": "python",
   "name": "python3"
  },
  "language_info": {
   "codemirror_mode": {
    "name": "ipython",
    "version": 3
   },
   "file_extension": ".py",
   "mimetype": "text/x-python",
   "name": "python",
   "nbconvert_exporter": "python",
   "pygments_lexer": "ipython3",
   "version": "3.7.5"
  },
  "mimetype": "text/x-python",
  "name": "python",
  "npconvert_exporter": "python",
  "pygments_lexer": "ipython3",
  "version": 3
 },
 "nbformat": 4,
 "nbformat_minor": 2
}
